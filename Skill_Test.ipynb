{
  "nbformat": 4,
  "nbformat_minor": 0,
  "metadata": {
    "colab": {
      "provenance": [],
      "authorship_tag": "ABX9TyMtP9nTsK4WuvxCNl38W2Lt",
      "include_colab_link": true
    },
    "kernelspec": {
      "name": "python3",
      "display_name": "Python 3"
    },
    "language_info": {
      "name": "python"
    }
  },
  "cells": [
    {
      "cell_type": "markdown",
      "metadata": {
        "id": "view-in-github",
        "colab_type": "text"
      },
      "source": [
        "<a href=\"https://colab.research.google.com/github/disomnongjalilah/CPE-201L-DSA-2-A/blob/main/Skill_Test.ipynb\" target=\"_parent\"><img src=\"https://colab.research.google.com/assets/colab-badge.svg\" alt=\"Open In Colab\"/></a>"
      ]
    },
    {
      "cell_type": "markdown",
      "source": [
        "Array"
      ],
      "metadata": {
        "id": "uEFQ1QksSQxh"
      }
    },
    {
      "cell_type": "code",
      "source": [
        "def append(arr):\n",
        "    return arr\n",
        "\n",
        "def traverse(arr):\n",
        "    for arr in arr:\n",
        "        print(arr)\n",
        "\n",
        "def main():\n",
        "    arr = []\n",
        "    fullname = \"JALILAH DISOMNONG\"\n",
        "    print(\"FULL NAME:\", fullname)\n",
        "    print(\"APPEND ARRAY\")\n",
        "    arr.append(fullname)\n",
        "    print(arr)\n",
        "    print(\"TRAVERSE ARRAY\")\n",
        "    traverse(fullname)\n",
        "\n",
        "if __name__ == \"__main__\":\n",
        "    main()"
      ],
      "metadata": {
        "colab": {
          "base_uri": "https://localhost:8080/"
        },
        "id": "q6oblcRnZ8k7",
        "outputId": "9155288f-4e37-49d0-fa2c-09abf8a87f72"
      },
      "execution_count": 40,
      "outputs": [
        {
          "output_type": "stream",
          "name": "stdout",
          "text": [
            "FULL NAME: JALILAH DISOMNONG\n",
            "APPEND ARRAY\n",
            "['JALILAH DISOMNONG']\n",
            "TRAVERSE ARRAY\n",
            "J\n",
            "A\n",
            "L\n",
            "I\n",
            "L\n",
            "A\n",
            "H\n",
            " \n",
            "D\n",
            "I\n",
            "S\n",
            "O\n",
            "M\n",
            "N\n",
            "O\n",
            "N\n",
            "G\n"
          ]
        }
      ]
    }
  ]
}