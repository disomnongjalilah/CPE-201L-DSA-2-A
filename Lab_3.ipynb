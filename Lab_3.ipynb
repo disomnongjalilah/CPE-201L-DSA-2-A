{
  "nbformat": 4,
  "nbformat_minor": 0,
  "metadata": {
    "colab": {
      "provenance": [],
      "authorship_tag": "ABX9TyNR+sFyiAudVbg8f665FKY0",
      "include_colab_link": true
    },
    "kernelspec": {
      "name": "python3",
      "display_name": "Python 3"
    },
    "language_info": {
      "name": "python"
    }
  },
  "cells": [
    {
      "cell_type": "markdown",
      "metadata": {
        "id": "view-in-github",
        "colab_type": "text"
      },
      "source": [
        "<a href=\"https://colab.research.google.com/github/disomnongjalilah/CPE-201L-DSA-2-A/blob/main/Lab_3.ipynb\" target=\"_parent\"><img src=\"https://colab.research.google.com/assets/colab-badge.svg\" alt=\"Open In Colab\"/></a>"
      ]
    },
    {
      "cell_type": "code",
      "source": [
        "sum_even = 0\n",
        "\n",
        "test_scores = [26, 49, 98, 87, 62, 75]\n",
        "\n",
        "score = test_scores[0]\n",
        "if score % 2 == 0:\n",
        "    sum_even += score\n",
        "score = test_scores[1]\n",
        "if score % 2 == 0:\n",
        "    sum_even += score\n",
        "score = test_scores[2]\n",
        "if score % 2 == 0:\n",
        "    sum_even += score\n",
        "score = test_scores[3]\n",
        "if score % 2 == 0:\n",
        "    sum_even += score\n",
        "score = test_scores[4]\n",
        "if score % 2 == 0:\n",
        "    sum_even += score\n",
        "score = test_scores[5]\n",
        "if score % 2 == 0:\n",
        "    sum_even += score\n",
        "\n",
        "print(\"Sum of even test scores:\", sum_even)"
      ],
      "metadata": {
        "colab": {
          "base_uri": "https://localhost:8080/"
        },
        "id": "9cMbpNSVSYvV",
        "outputId": "9b71afc1-105d-4a8f-999f-9bfb8e81cf1a"
      },
      "execution_count": 4,
      "outputs": [
        {
          "output_type": "stream",
          "name": "stdout",
          "text": [
            "Sum of even test scores: 186\n"
          ]
        }
      ]
    }
  ]
}