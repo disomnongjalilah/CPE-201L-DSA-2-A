{
  "nbformat": 4,
  "nbformat_minor": 0,
  "metadata": {
    "colab": {
      "provenance": [],
      "authorship_tag": "ABX9TyNLDUsMNTiXoZ1JWMHmQ5Lu",
      "include_colab_link": true
    },
    "kernelspec": {
      "name": "python3",
      "display_name": "Python 3"
    },
    "language_info": {
      "name": "python"
    }
  },
  "cells": [
    {
      "cell_type": "markdown",
      "metadata": {
        "id": "view-in-github",
        "colab_type": "text"
      },
      "source": [
        "<a href=\"https://colab.research.google.com/github/disomnongjalilah/CPE-201L-DSA-2-A/blob/main/Midterm_TestSkill.ipynb\" target=\"_parent\"><img src=\"https://colab.research.google.com/assets/colab-badge.svg\" alt=\"Open In Colab\"/></a>"
      ]
    },
    {
      "cell_type": "code",
      "source": [
        "def display(arr):\n",
        "  print(\"Elements:\", arr)\n",
        "\n",
        "def max(arr):\n",
        "  max = arr[0]\n",
        "  for i in range(len(arr)):\n",
        "    if arr[i] > max:\n",
        "      max = arr[i]\n",
        "  print(\"Maximum element:\", max)\n",
        "\n",
        "def reverse(arr):\n",
        "  arr.reverse()\n",
        "  print(\"Reverse element:\", arr)\n",
        "\n",
        "\n",
        "arr = [22,24,26,28,30,32,34,36,38,40,42,44,46,48]\n",
        "\n",
        "display(arr)\n",
        "max(arr)\n",
        "reverse(arr)\n"
      ],
      "metadata": {
        "colab": {
          "base_uri": "https://localhost:8080/"
        },
        "id": "xmML0aOKMHAf",
        "outputId": "87b93eac-9c32-4abe-b625-aa6bbac6b0b6"
      },
      "execution_count": 111,
      "outputs": [
        {
          "output_type": "stream",
          "name": "stdout",
          "text": [
            "Elements: [22, 24, 26, 28, 30, 32, 34, 36, 38, 40, 42, 44, 46, 48]\n",
            "Maximum element: 48\n",
            "Reverse element: [48, 46, 44, 42, 40, 38, 36, 34, 32, 30, 28, 26, 24, 22]\n"
          ]
        }
      ]
    }
  ]
}