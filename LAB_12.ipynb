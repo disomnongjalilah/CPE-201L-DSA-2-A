{
  "nbformat": 4,
  "nbformat_minor": 0,
  "metadata": {
    "colab": {
      "provenance": [],
      "authorship_tag": "ABX9TyPsJ15DO9tC/yVzSJZtsFY+",
      "include_colab_link": true
    },
    "kernelspec": {
      "name": "python3",
      "display_name": "Python 3"
    },
    "language_info": {
      "name": "python"
    }
  },
  "cells": [
    {
      "cell_type": "markdown",
      "metadata": {
        "id": "view-in-github",
        "colab_type": "text"
      },
      "source": [
        "<a href=\"https://colab.research.google.com/github/disomnongjalilah/CPE-201L-DSA-2-A/blob/main/LAB_12.ipynb\" target=\"_parent\"><img src=\"https://colab.research.google.com/assets/colab-badge.svg\" alt=\"Open In Colab\"/></a>"
      ]
    },
    {
      "cell_type": "code",
      "execution_count": 7,
      "metadata": {
        "colab": {
          "base_uri": "https://localhost:8080/"
        },
        "id": "RIcJ_WdG9Y0v",
        "outputId": "c3b54028-b2fb-4773-add2-ceeb073f79eb"
      },
      "outputs": [
        {
          "output_type": "stream",
          "name": "stdout",
          "text": [
            "A: ['B', 'C']\n",
            "B: ['A', 'D']\n",
            "C: ['A', 'D']\n",
            "D: ['B', 'C']\n",
            "E: ['F']\n",
            "F: []\n"
          ]
        }
      ],
      "source": [
        "#1.\tGraph Implementation\n",
        "from collections import deque\n",
        "import time\n",
        "\n",
        "class Graph:\n",
        "    def __init__(self):\n",
        "        self.adj_list = {}\n",
        "\n",
        "    def add_vertex(self, vertex):\n",
        "        if vertex not in self.adj_list:\n",
        "            self.adj_list[vertex] = []\n",
        "\n",
        "    def add_edge(self, vertex1, vertex2, directed=False):\n",
        "        self.add_vertex(vertex1)\n",
        "        self.add_vertex(vertex2)\n",
        "\n",
        "        self.adj_list[vertex1].append(vertex2)\n",
        "        if not directed:\n",
        "            self.adj_list[vertex2].append(vertex1)\n",
        "\n",
        "    def display(self):\n",
        "        for vertex, neighbors in self.adj_list.items():\n",
        "            print(f\"{vertex}: {neighbors}\")\n",
        "\n",
        "g = Graph()\n",
        "\n",
        "g.add_edge(\"A\", \"B\")\n",
        "g.add_edge(\"A\", \"C\")\n",
        "g.add_edge(\"B\", \"D\")\n",
        "g.add_edge(\"C\", \"D\")\n",
        "g.add_edge(\"E\", \"F\", directed=True)\n",
        "\n",
        "g.display()\n",
        "\n"
      ]
    },
    {
      "cell_type": "code",
      "source": [
        "#2. DFS Implementation\n",
        "\n",
        "def dfs_recursive(graph, start, visited=None, path=None):\n",
        "    if visited is None:\n",
        "        visited = set()\n",
        "    if path is None:\n",
        "        path = []\n",
        "\n",
        "    visited.add(start)\n",
        "    path.append(start)\n",
        "    print(f\"Visiting: {start}\")\n",
        "\n",
        "    for neighbor in graph.adj_list[start]:\n",
        "        if neighbor not in visited:\n",
        "            dfs_recursive(graph, neighbor, visited, path)\n",
        "\n",
        "    return path\n",
        "\n",
        "def dfs_iterative(graph, start):\n",
        "    visited = set()\n",
        "    stack = [start]\n",
        "    path = []\n",
        "\n",
        "    print(\"DFS Iterative Traversal:\")\n",
        "    while stack:\n",
        "        vertex = stack.pop()\n",
        "        if vertex not in visited:\n",
        "            visited.add(vertex)\n",
        "            path.append(vertex)\n",
        "            print(f\"Visiting: {vertex}\")\n",
        "\n",
        "            # Add neighbors in reverse order for same behavior as recursive\n",
        "            for neighbor in reversed(graph.adj_list[vertex]):\n",
        "                if neighbor not in visited:\n",
        "                    stack.append(neighbor)\n",
        "    return path\n",
        "\n",
        "\n",
        "g = Graph()\n",
        "g.add_edge(\"A\", \"B\")\n",
        "g.add_edge(\"A\", \"C\")\n",
        "g.add_edge(\"B\", \"D\")\n",
        "g.add_edge(\"C\", \"E\")\n",
        "g.add_edge(\"E\", \"F\")\n",
        "\n",
        "print(\"Adjacency list:\")\n",
        "g.display()\n",
        "print(\"\\nDFS Traversal:\")\n",
        "\n",
        "dfs_path = dfs_recursive(g, \"A\")\n",
        "\n",
        "print(\"\\nDFS Path:\", dfs_path)\n"
      ],
      "metadata": {
        "colab": {
          "base_uri": "https://localhost:8080/"
        },
        "id": "aGTxCVhk9mWs",
        "outputId": "6ced9367-f66a-45de-95cc-5bc333c384ce"
      },
      "execution_count": 9,
      "outputs": [
        {
          "output_type": "stream",
          "name": "stdout",
          "text": [
            "Adjacency list:\n",
            "A: ['B', 'C']\n",
            "B: ['A', 'D']\n",
            "C: ['A', 'E']\n",
            "D: ['B']\n",
            "E: ['C', 'F']\n",
            "F: ['E']\n",
            "\n",
            "DFS Traversal:\n",
            "Visiting: A\n",
            "Visiting: B\n",
            "Visiting: D\n",
            "Visiting: C\n",
            "Visiting: E\n",
            "Visiting: F\n",
            "\n",
            "DFS Path: ['A', 'B', 'D', 'C', 'E', 'F']\n"
          ]
        }
      ]
    },
    {
      "cell_type": "code",
      "source": [
        "#3.\tBFS Implementation\n",
        "\n",
        "\n",
        "def bfs(graph, start):\n",
        "    visited = set()\n",
        "    queue = deque([start])\n",
        "    path = []\n",
        "\n",
        "    print(\"BFS Traversal:\")\n",
        "    while queue:\n",
        "        vertex = queue.popleft()\n",
        "        if vertex not in visited:\n",
        "            visited.add(vertex)\n",
        "            path.append(vertex)\n",
        "            print(f\"Visiting: {vertex}\")\n",
        "\n",
        "            for neighbor in graph.adj_list[vertex]:\n",
        "                if neighbor not in visited:\n",
        "                    queue.append(neighbor)\n",
        "\n",
        "    return path\n",
        "\n",
        "\n",
        "\n",
        "g = Graph()\n",
        "g.add_edge(\"A\", \"B\")\n",
        "g.add_edge(\"A\", \"C\")\n",
        "g.add_edge(\"B\", \"D\")\n",
        "g.add_edge(\"B\", \"E\")\n",
        "g.add_edge(\"C\", \"F\")\n",
        "g.add_edge(\"E\", \"F\")\n",
        "\n",
        "print(\"Adjacency list:\")\n",
        "g.display()\n",
        "\n",
        "print(\"\\n\")\n",
        "bfs_path = bfs(g, \"A\")\n",
        "\n",
        "print(\"\\nBFS Path:\", bfs_path)\n",
        "\n"
      ],
      "metadata": {
        "colab": {
          "base_uri": "https://localhost:8080/"
        },
        "id": "pv-8FQfG9yAk",
        "outputId": "deb12e53-fcb9-46ed-fdd5-cd7e8efc0f40"
      },
      "execution_count": 11,
      "outputs": [
        {
          "output_type": "stream",
          "name": "stdout",
          "text": [
            "Adjacency list:\n",
            "A: ['B', 'C']\n",
            "B: ['A', 'D', 'E']\n",
            "C: ['A', 'F']\n",
            "D: ['B']\n",
            "E: ['B', 'F']\n",
            "F: ['C', 'E']\n",
            "\n",
            "\n",
            "BFS Traversal:\n",
            "Visiting: A\n",
            "Visiting: B\n",
            "Visiting: C\n",
            "Visiting: D\n",
            "Visiting: E\n",
            "Visiting: F\n",
            "\n",
            "BFS Path: ['A', 'B', 'C', 'D', 'E', 'F']\n"
          ]
        }
      ]
    }
  ]
}