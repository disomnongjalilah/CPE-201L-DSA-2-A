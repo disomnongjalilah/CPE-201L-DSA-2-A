{
  "nbformat": 4,
  "nbformat_minor": 0,
  "metadata": {
    "colab": {
      "provenance": [],
      "authorship_tag": "ABX9TyO7w2zElL8IFoty1xpi57kx",
      "include_colab_link": true
    },
    "kernelspec": {
      "name": "python3",
      "display_name": "Python 3"
    },
    "language_info": {
      "name": "python"
    }
  },
  "cells": [
    {
      "cell_type": "markdown",
      "metadata": {
        "id": "view-in-github",
        "colab_type": "text"
      },
      "source": [
        "<a href=\"https://colab.research.google.com/github/disomnongjalilah/CPE-201L-DSA-2-A/blob/main/Lab_6.ipynb\" target=\"_parent\"><img src=\"https://colab.research.google.com/assets/colab-badge.svg\" alt=\"Open In Colab\"/></a>"
      ]
    },
    {
      "cell_type": "code",
      "execution_count": 14,
      "metadata": {
        "colab": {
          "base_uri": "https://localhost:8080/"
        },
        "id": "J62_NB1LcxeC",
        "outputId": "8266fcc3-0657-4690-dc14-23b60e90ee94"
      },
      "outputs": [
        {
          "output_type": "stream",
          "name": "stdout",
          "text": [
            "Prime numbers less than 20\n",
            "2,3,5,7,11,13,17,19,None\n",
            "Head: 2\n",
            "Tail: 19\n"
          ]
        }
      ],
      "source": [
        "class Node:\n",
        "    def __init__(self,data):\n",
        "        self.data = data\n",
        "        self.next = None\n",
        "\n",
        "class SinglyLinkedList:\n",
        "    def __init__(self):\n",
        "        self.head = None\n",
        "        self.tail = None\n",
        "\n",
        "    def append(self, data):\n",
        "        new_node = Node(data)\n",
        "        if not self.head:\n",
        "            self.head = new_node\n",
        "            self.tail = new_node\n",
        "        else:\n",
        "            self.tail.next = new_node\n",
        "            self.tail = new_node\n",
        "\n",
        "    def display(self):\n",
        "        current = self.head\n",
        "        print(\"Prime numbers less than 20\")\n",
        "        while current:\n",
        "            print(current.data, end=',')\n",
        "            current = current.next\n",
        "        print(\"None\")\n",
        "\n",
        "    def get_head(self):\n",
        "        if self.head:\n",
        "            print(f\"Head: {self.head.data}\")\n",
        "        else:\n",
        "            print(\"Head: None\")\n",
        "\n",
        "    def get_tail(self):\n",
        "        if self.tail:\n",
        "            print(f\"Tail: {self.tail.data}\")\n",
        "        else:\n",
        "            print(\"Tail: None\")\n",
        "\n",
        "\n",
        "def is_prime(x):\n",
        "    if x < 2:\n",
        "        return False\n",
        "    for i in range(2, int(x ** 0.5) + 1):\n",
        "        if x % i == 0:\n",
        "            return False\n",
        "    return True\n",
        "\n",
        "linked_list = SinglyLinkedList()\n",
        "\n",
        "for num in range(0, 20):\n",
        "    if is_prime(num):\n",
        "        linked_list.append(num)\n",
        "\n",
        "linked_list.display()\n",
        "linked_list.get_head()\n",
        "linked_list.get_tail()\n"
      ]
    }
  ]
}