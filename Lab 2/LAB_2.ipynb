{
  "nbformat": 4,
  "nbformat_minor": 0,
  "metadata": {
    "colab": {
      "provenance": [],
      "authorship_tag": "ABX9TyMO2mSHXJzzhzc9I3F2OA3L",
      "include_colab_link": true
    },
    "kernelspec": {
      "name": "python3",
      "display_name": "Python 3"
    },
    "language_info": {
      "name": "python"
    }
  },
  "cells": [
    {
      "cell_type": "markdown",
      "metadata": {
        "id": "view-in-github",
        "colab_type": "text"
      },
      "source": [
        "<a href=\"https://colab.research.google.com/github/disomnongjalilah/CPE-201L-DSA-2-A/blob/main/LAB_2.ipynb\" target=\"_parent\"><img src=\"https://colab.research.google.com/assets/colab-badge.svg\" alt=\"Open In Colab\"/></a>"
      ]
    },
    {
      "cell_type": "code",
      "execution_count": 13,
      "metadata": {
        "id": "8z0yMo6b9PqE",
        "colab": {
          "base_uri": "https://localhost:8080/"
        },
        "outputId": "2b600465-5236-46c3-b8e7-041c737129d7"
      },
      "outputs": [
        {
          "output_type": "stream",
          "name": "stdout",
          "text": [
            "List: [54, 34, 76, 87, 64, 45]\n",
            "Minimum: 34\n",
            "Maximum: 87\n"
          ]
        }
      ],
      "source": [
        "class Number:\n",
        "    def __init__(self):\n",
        "        self.num = []\n",
        "\n",
        "    def my_list(self):\n",
        "        self.num = [54, 34, 76, 87, 64, 45]\n",
        "        return self.num\n",
        "\n",
        "\n",
        "def find_min_max(seq):\n",
        "    match seq:\n",
        "        case [single]:\n",
        "            return single, single\n",
        "        case [first, *rest]:\n",
        "            min_rest, max_rest = find_min_max(rest)\n",
        "            return min(first, min_rest), max(first, max_rest)\n",
        "\n",
        "list = Number()\n",
        "list.my_list()\n",
        "\n",
        "min_val, max_val = find_min_max(list.num)\n",
        "print(\"List:\", list.num)\n",
        "print(\"Minimum:\", min_val)\n",
        "print(\"Maximum:\", max_val)\n",
        "\n"
      ]
    }
  ]
}