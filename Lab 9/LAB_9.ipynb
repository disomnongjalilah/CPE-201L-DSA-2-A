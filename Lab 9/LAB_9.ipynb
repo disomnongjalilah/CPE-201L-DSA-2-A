{
  "nbformat": 4,
  "nbformat_minor": 0,
  "metadata": {
    "colab": {
      "provenance": [],
      "authorship_tag": "ABX9TyPwweOn9vvPbVGaoXsSs8nU",
      "include_colab_link": true
    },
    "kernelspec": {
      "name": "python3",
      "display_name": "Python 3"
    },
    "language_info": {
      "name": "python"
    }
  },
  "cells": [
    {
      "cell_type": "markdown",
      "metadata": {
        "id": "view-in-github",
        "colab_type": "text"
      },
      "source": [
        "<a href=\"https://colab.research.google.com/github/disomnongjalilah/CPE-201L-DSA-2-A/blob/main/LAB_9.ipynb\" target=\"_parent\"><img src=\"https://colab.research.google.com/assets/colab-badge.svg\" alt=\"Open In Colab\"/></a>"
      ]
    },
    {
      "cell_type": "code",
      "execution_count": 1,
      "metadata": {
        "colab": {
          "base_uri": "https://localhost:8080/"
        },
        "id": "vPn2a7Hjils-",
        "outputId": "f7c3677a-1c45-465d-d7f6-b1dd33e91fc3"
      },
      "outputs": [
        {
          "output_type": "stream",
          "name": "stdout",
          "text": [
            "Pushed Element: 1\n",
            "Pushed Element: 2\n",
            "Pushed Element: 3\n",
            "Pushed Element: 4\n",
            "Pushed Element: 5\n",
            "The elements in the stack are:['1', '2', '3', '4', '5']\n"
          ]
        }
      ],
      "source": [
        "# Stack implementation in python\n",
        "\n",
        "# Creating a stack\n",
        "def create_stack():\n",
        "    stack = []\n",
        "    return stack\n",
        "\n",
        "\n",
        "# Creating an empty stack\n",
        "def is_empty(stack):\n",
        "    return len(stack) == 0\n",
        "\n",
        "# Adding items into the stack\n",
        "def push(stack, item):\n",
        "    stack.append(item)\n",
        "    print(\"Pushed Element: \" + item)\n",
        "\n",
        "# Removing an element from the stack\n",
        "def pop(stack):\n",
        "    if (is_empty(stack)):\n",
        "        return \"The stack is empty\"\n",
        "    return stack.pop()\n",
        "\n",
        "stack = create_stack()\n",
        "push(stack, str(1))\n",
        "push(stack, str(2))\n",
        "push(stack, str(3))\n",
        "push(stack, str(4))\n",
        "push(stack, str(5))\n",
        "\n",
        "print(\"The elements in the stack are:\"+ str(stack))"
      ]
    },
    {
      "cell_type": "code",
      "source": [
        "# Queue\n",
        "\n",
        "# Creating a queue\n",
        "def create_queue():\n",
        "    queue = []\n",
        "    return queue\n",
        "\n",
        "# Check if the queue is empty\n",
        "def is_empty(queue):\n",
        "    return len(queue) == 0\n",
        "\n",
        "# Add item to the end of the queue (enqueue)\n",
        "def enqueue(queue, item):\n",
        "    queue.append(item)\n",
        "    print(\"Enqueued Element: \" + item)\n",
        "\n",
        "# Remove item from the front of the queue (dequeue)\n",
        "def dequeue(queue):\n",
        "    if is_empty(queue):\n",
        "        return \"The queue is empty\"\n",
        "    else :\n",
        "        print(\"Dequeued Element: \" + str(queue[0]))\n",
        "    return queue.pop(0)\n",
        "\n",
        "queue = create_queue()\n",
        "enqueue(queue, str(1))\n",
        "enqueue(queue, str(2))\n",
        "enqueue(queue, str(3))\n",
        "enqueue(queue, str(4))\n",
        "enqueue(queue, str(5))\n",
        "\n",
        "print(\"The elements in the queue are: \" + str(queue))\n",
        "\n",
        "dequeue(queue)\n",
        "dequeue(queue)\n",
        "print(\"The elements in the queue are: \" + str(queue))"
      ],
      "metadata": {
        "colab": {
          "base_uri": "https://localhost:8080/"
        },
        "id": "fR-ex52Mjgji",
        "outputId": "2bf7929d-934b-4a29-a820-fa0e26ecbcbf"
      },
      "execution_count": 8,
      "outputs": [
        {
          "output_type": "stream",
          "name": "stdout",
          "text": [
            "Enqueued Element: 1\n",
            "Enqueued Element: 2\n",
            "Enqueued Element: 3\n",
            "Enqueued Element: 4\n",
            "Enqueued Element: 5\n",
            "The elements in the queue are: ['1', '2', '3', '4', '5']\n",
            "Dequeued Element: 1\n",
            "Dequeued Element: 2\n",
            "The elements in the queue are: ['3', '4', '5']\n"
          ]
        }
      ]
    }
  ]
}