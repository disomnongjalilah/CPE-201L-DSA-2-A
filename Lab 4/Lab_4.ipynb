{
  "nbformat": 4,
  "nbformat_minor": 0,
  "metadata": {
    "colab": {
      "provenance": [],
      "authorship_tag": "ABX9TyMbOgB5TeQxSkhVVJSnpD+Z",
      "include_colab_link": true
    },
    "kernelspec": {
      "name": "python3",
      "display_name": "Python 3"
    },
    "language_info": {
      "name": "python"
    }
  },
  "cells": [
    {
      "cell_type": "markdown",
      "metadata": {
        "id": "view-in-github",
        "colab_type": "text"
      },
      "source": [
        "<a href=\"https://colab.research.google.com/github/disomnongjalilah/CPE-201L-DSA-2-A/blob/main/Lab_4.ipynb\" target=\"_parent\"><img src=\"https://colab.research.google.com/assets/colab-badge.svg\" alt=\"Open In Colab\"/></a>"
      ]
    },
    {
      "cell_type": "markdown",
      "source": [
        "Problem 1"
      ],
      "metadata": {
        "id": "jeV6SqAkxvIx"
      }
    },
    {
      "cell_type": "code",
      "execution_count": null,
      "metadata": {
        "id": "YCgQfHG3xjnp"
      },
      "outputs": [],
      "source": [
        "class Grocery:\n",
        "    def __init__(self, name, price, quantity):\n",
        "        self.name = name\n",
        "        self.price = price\n",
        "        self.quantity = quantity\n",
        "\n",
        "    def get_name(self):\n",
        "        return self.name\n",
        "    def get_price(self):\n",
        "        return self.price\n",
        "    def get_quantity(self):\n",
        "        return self.quantity\n",
        "\n",
        "\n",
        "def sum_groceries(groceries):\n",
        "    total = 0\n",
        "    for groceries in groceries:\n",
        "        total += groceries.get_price() * groceries.get_quantity()\n",
        "    return total\n"
      ]
    },
    {
      "cell_type": "markdown",
      "source": [
        "Problem 2"
      ],
      "metadata": {
        "id": "dP0IEmiIzQ1a"
      }
    },
    {
      "cell_type": "code",
      "source": [
        "apple = Grocery('Apple',10,7)\n",
        "banana = Grocery('Banana',10,8)\n",
        "broccoli = Grocery('Broccoli',60,12)\n",
        "lettuce = Grocery('Lettuce',50,10)\n",
        "\n",
        "grocery_list = [apple, banana, broccoli, lettuce]"
      ],
      "metadata": {
        "id": "p6lxd5p6zQ_B"
      },
      "execution_count": null,
      "outputs": []
    },
    {
      "cell_type": "markdown",
      "source": [
        "Problem 3"
      ],
      "metadata": {
        "id": "xvbwr7ol1by6"
      }
    },
    {
      "cell_type": "code",
      "source": [
        "sum_groceries(grocery_list)"
      ],
      "metadata": {
        "colab": {
          "base_uri": "https://localhost:8080/"
        },
        "id": "84F52Ng61dzp",
        "outputId": "f5a40643-a651-41e7-860b-9d5df0d53972"
      },
      "execution_count": null,
      "outputs": [
        {
          "output_type": "execute_result",
          "data": {
            "text/plain": [
              "1370"
            ]
          },
          "metadata": {},
          "execution_count": 30
        }
      ]
    },
    {
      "cell_type": "markdown",
      "source": [
        "Problem 4"
      ],
      "metadata": {
        "id": "votlEJc01l6B"
      }
    },
    {
      "cell_type": "code",
      "source": [
        "grocery_list.remove(lettuce)\n",
        "\n",
        "print(grocery_list)"
      ],
      "metadata": {
        "colab": {
          "base_uri": "https://localhost:8080/"
        },
        "id": "Y_O0o0-j1nw5",
        "outputId": "7804e9f2-3e84-4885-d991-81a411ea7be7"
      },
      "execution_count": null,
      "outputs": [
        {
          "output_type": "stream",
          "name": "stdout",
          "text": [
            "[<__main__.Grocery object at 0x7b1c7643fed0>, <__main__.Grocery object at 0x7b1c7654e050>, <__main__.Grocery object at 0x7b1c76420c90>]\n"
          ]
        }
      ]
    }
  ]
}