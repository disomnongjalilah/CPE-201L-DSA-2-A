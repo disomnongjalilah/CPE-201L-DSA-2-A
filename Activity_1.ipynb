{
  "nbformat": 4,
  "nbformat_minor": 0,
  "metadata": {
    "colab": {
      "provenance": [],
      "authorship_tag": "ABX9TyMBquKjsV0H0YeEq/5byza4",
      "include_colab_link": true
    },
    "kernelspec": {
      "name": "python3",
      "display_name": "Python 3"
    },
    "language_info": {
      "name": "python"
    }
  },
  "cells": [
    {
      "cell_type": "markdown",
      "metadata": {
        "id": "view-in-github",
        "colab_type": "text"
      },
      "source": [
        "<a href=\"https://colab.research.google.com/github/disomnongjalilah/CPE-201L-DSA-2-A/blob/main/Activity_1.ipynb\" target=\"_parent\"><img src=\"https://colab.research.google.com/assets/colab-badge.svg\" alt=\"Open In Colab\"/></a>"
      ]
    },
    {
      "cell_type": "code",
      "execution_count": 13,
      "metadata": {
        "colab": {
          "base_uri": "https://localhost:8080/"
        },
        "id": "688awnIIzFOH",
        "outputId": "9a297a52-5a62-461e-fa6d-9ad056e9cadf"
      },
      "outputs": [
        {
          "output_type": "stream",
          "name": "stdout",
          "text": [
            "The area of a circle with a diameter of 4 is 12.56\n"
          ]
        }
      ],
      "source": [
        "#CREATE A PYTHON PROGRAM THAT COMPUTES THE AREA OF A CIRCLE\n",
        "#ALGORITHM 1\n",
        "\n",
        "d=4\n",
        "A=3.14*(d/2)**2\n",
        "\n",
        "print(\"The area of a circle with a diameter of\", d, \"is\", A)"
      ]
    },
    {
      "cell_type": "code",
      "source": [
        "#CREATE A PYTHON PROGRAM THAT COMPUTES THE AREA OF A CIRCLE\n",
        "#ALGORITHM 2\n",
        "\n",
        "r=2\n",
        "A=3.14*(r)**2\n",
        "\n",
        "print(\"The area of a circle with a radius of\", r, \"is\", A)"
      ],
      "metadata": {
        "colab": {
          "base_uri": "https://localhost:8080/"
        },
        "id": "h_3HolPvzoMq",
        "outputId": "a0e34884-b679-4870-b5f7-d540b8dc18f9"
      },
      "execution_count": 8,
      "outputs": [
        {
          "output_type": "stream",
          "name": "stdout",
          "text": [
            "The area of a circle with a radius of 2 is 12.56\n"
          ]
        }
      ]
    }
  ]
}