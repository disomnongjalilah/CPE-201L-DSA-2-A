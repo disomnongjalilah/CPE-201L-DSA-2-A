{
  "nbformat": 4,
  "nbformat_minor": 0,
  "metadata": {
    "colab": {
      "provenance": [],
      "authorship_tag": "ABX9TyO9NHdCPJXOA/7aQDHPT9/I",
      "include_colab_link": true
    },
    "kernelspec": {
      "name": "python3",
      "display_name": "Python 3"
    },
    "language_info": {
      "name": "python"
    }
  },
  "cells": [
    {
      "cell_type": "markdown",
      "metadata": {
        "id": "view-in-github",
        "colab_type": "text"
      },
      "source": [
        "<a href=\"https://colab.research.google.com/github/disomnongjalilah/CPE-201L-DSA-2-A/blob/main/polygons.ipynb\" target=\"_parent\"><img src=\"https://colab.research.google.com/assets/colab-badge.svg\" alt=\"Open In Colab\"/></a>"
      ]
    },
    {
      "cell_type": "code",
      "execution_count": null,
      "metadata": {
        "id": "rp9L1OVr2SRg"
      },
      "outputs": [],
      "source": [
        "class Polygons:\n",
        "    def __init__(self, name, sides, area):\n",
        "        self.name = name\n",
        "        self.sides = sides\n",
        "        self.area = area\n",
        "\n",
        "    def set_name(self, name):\n",
        "        self.name = name\n",
        "\n",
        "    def set_sides(self, sides):\n",
        "        self.sides = sides\n",
        "\n",
        "    def set_area(self, area):\n",
        "        self.area = area\n",
        "\n",
        "    def get_name(self):\n",
        "        return self.name\n",
        "\n",
        "    def get_sides(self):\n",
        "        return self.sides\n",
        "\n",
        "    def get_area(self):\n",
        "        return self.area"
      ]
    },
    {
      "cell_type": "code",
      "source": [
        "\n",
        "polygon = Polygons(\"Triangle\", 3, 12.5)\n",
        "\n",
        "print(\"Name:\", polygon.get_name())\n",
        "print(\"Sides:\", polygon.get_sides())\n",
        "print(\"Area:\", polygon.get_area())"
      ],
      "metadata": {
        "colab": {
          "base_uri": "https://localhost:8080/"
        },
        "id": "i_sE93s52V1D",
        "outputId": "386c103d-0439-40f2-e3a6-76f59cfd3a42"
      },
      "execution_count": null,
      "outputs": [
        {
          "output_type": "stream",
          "name": "stdout",
          "text": [
            "Name: Triangle\n",
            "Sides: 3\n",
            "Area: 12.5\n"
          ]
        }
      ]
    }
  ]
}